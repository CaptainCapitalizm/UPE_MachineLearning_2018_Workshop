{
 "cells": [
  {
   "cell_type": "code",
   "execution_count": 1,
   "metadata": {},
   "outputs": [
    {
     "name": "stderr",
     "output_type": "stream",
     "text": [
      "C:\\Users\\Adrian\\Anaconda3\\lib\\site-packages\\h5py\\__init__.py:34: FutureWarning: Conversion of the second argument of issubdtype from `float` to `np.floating` is deprecated. In future, it will be treated as `np.float64 == np.dtype(float).type`.\n",
      "  from ._conv import register_converters as _register_converters\n",
      "Using TensorFlow backend.\n"
     ]
    }
   ],
   "source": [
    "import numpy as np\n",
    "from keras.datasets import mnist\n",
    "from keras.models import Sequential\n",
    "from keras.layers.core import Dense, Dropout, Activation\n",
    "from keras.optimizers import SGD\n",
    "from keras.utils import np_utils\n",
    "np.random.seed(5)"
   ]
  },
  {
   "cell_type": "markdown",
   "metadata": {},
   "source": [
    "# Neural Network Parameters"
   ]
  },
  {
   "cell_type": "code",
   "execution_count": 2,
   "metadata": {
    "collapsed": true
   },
   "outputs": [],
   "source": [
    "NB_EPOCH = 200 #number of times the network is exposed to the training set\n",
    "BATCH_SIZE = 128 #number of training samples per epoch\n",
    "VERBOSE = 1 #Shows theloading bar for each epoch\n",
    "NB_CLASSES = 10 #number of possible outputs which in this case is digits from 0-9\n",
    "OPTIMIZER = SGD() #Stochastic Gradient Descent\n",
    "N_HIDDEN = 128\n",
    "VALIDATION_SPLIT = 0.2 #how much of the training set will be used for validation"
   ]
  },
  {
   "cell_type": "markdown",
   "metadata": {},
   "source": [
    "# Load Data"
   ]
  },
  {
   "cell_type": "code",
   "execution_count": 3,
   "metadata": {},
   "outputs": [],
   "source": [
    "(X_train, y_train), (X_test, y_test) = mnist.load_data()"
   ]
  },
  {
   "cell_type": "markdown",
   "metadata": {},
   "source": [
    "# Prepare X_train and X_test"
   ]
  },
  {
   "cell_type": "code",
   "execution_count": 4,
   "metadata": {},
   "outputs": [],
   "source": [
    "RESHAPE = 784 #We're dealing with 28x28 images from mnist so we will reshape our data to (num_rows, 784)\n",
    "X_train = X_train.reshape(60000, RESHAPE)\n",
    "X_test = X_test.reshape(10000, RESHAPE)\n",
    "\n",
    "X_train = X_train.astype('float32')\n",
    "X_test = X_test.astype('float32')\n",
    "\n",
    "#Normalize:\n",
    "\n",
    "X_train /= 255\n",
    "X_test /= 255"
   ]
  },
  {
   "cell_type": "markdown",
   "metadata": {},
   "source": [
    "# Convert Y_train and Y_test into binary class matrices"
   ]
  },
  {
   "cell_type": "code",
   "execution_count": 5,
   "metadata": {
    "collapsed": true
   },
   "outputs": [],
   "source": [
    "Y_train = np_utils.to_categorical(y_train)\n",
    "Y_test = np_utils.to_categorical(y_test)"
   ]
  },
  {
   "cell_type": "markdown",
   "metadata": {},
   "source": [
    "# Making Your Model Pt.1"
   ]
  },
  {
   "cell_type": "code",
   "execution_count": 6,
   "metadata": {
    "scrolled": true
   },
   "outputs": [
    {
     "name": "stdout",
     "output_type": "stream",
     "text": [
      "_________________________________________________________________\n",
      "Layer (type)                 Output Shape              Param #   \n",
      "=================================================================\n",
      "dense_1 (Dense)              (None, 10)                7850      \n",
      "_________________________________________________________________\n",
      "activation_1 (Activation)    (None, 10)                0         \n",
      "=================================================================\n",
      "Total params: 7,850\n",
      "Trainable params: 7,850\n",
      "Non-trainable params: 0\n",
      "_________________________________________________________________\n"
     ]
    }
   ],
   "source": [
    "model = Sequential()\n",
    "model.add(Dense(NB_CLASSES, input_shape = (RESHAPE,)))\n",
    "model.add(Activation('softmax'))\n",
    "model.summary()\n",
    "model.compile(loss = 'categorical_crossentropy', optimizer = OPTIMIZER, metrics = ['accuracy'])"
   ]
  },
  {
   "cell_type": "code",
   "execution_count": 7,
   "metadata": {},
   "outputs": [
    {
     "name": "stdout",
     "output_type": "stream",
     "text": [
      "Train on 48000 samples, validate on 12000 samples\n",
      "Epoch 1/200\n",
      "48000/48000 [==============================] - 1s 22us/step - loss: 1.3926 - acc: 0.6668 - val_loss: 0.8943 - val_acc: 0.8323\n",
      "Epoch 2/200\n",
      "48000/48000 [==============================] - 1s 21us/step - loss: 0.7910 - acc: 0.8319 - val_loss: 0.6547 - val_acc: 0.8582\n",
      "Epoch 3/200\n",
      "48000/48000 [==============================] - 1s 19us/step - loss: 0.6408 - acc: 0.8514 - val_loss: 0.5593 - val_acc: 0.8712\n",
      "Epoch 4/200\n",
      "48000/48000 [==============================] - 1s 19us/step - loss: 0.5688 - acc: 0.8627 - val_loss: 0.5068 - val_acc: 0.8796\n",
      "Epoch 5/200\n",
      "48000/48000 [==============================] - 1s 19us/step - loss: 0.5251 - acc: 0.8689 - val_loss: 0.4731 - val_acc: 0.8837\n",
      "Epoch 6/200\n",
      "48000/48000 [==============================] - 1s 22us/step - loss: 0.4952 - acc: 0.8737 - val_loss: 0.4490 - val_acc: 0.8866\n",
      "Epoch 7/200\n",
      "48000/48000 [==============================] - 1s 22us/step - loss: 0.4730 - acc: 0.8772 - val_loss: 0.4314 - val_acc: 0.8902\n",
      "Epoch 8/200\n",
      "48000/48000 [==============================] - 1s 25us/step - loss: 0.4559 - acc: 0.8810 - val_loss: 0.4172 - val_acc: 0.8949\n",
      "Epoch 9/200\n",
      "48000/48000 [==============================] - 1s 26us/step - loss: 0.4421 - acc: 0.8834 - val_loss: 0.4058 - val_acc: 0.8952\n",
      "Epoch 10/200\n",
      "48000/48000 [==============================] - 1s 28us/step - loss: 0.4307 - acc: 0.8856 - val_loss: 0.3963 - val_acc: 0.8973\n",
      "Epoch 11/200\n",
      "48000/48000 [==============================] - 1s 26us/step - loss: 0.4210 - acc: 0.8873 - val_loss: 0.3881 - val_acc: 0.8988\n",
      "Epoch 12/200\n",
      "48000/48000 [==============================] - 1s 27us/step - loss: 0.4127 - acc: 0.8895 - val_loss: 0.3812 - val_acc: 0.8996\n",
      "Epoch 13/200\n",
      "48000/48000 [==============================] - 1s 26us/step - loss: 0.4054 - acc: 0.8908 - val_loss: 0.3752 - val_acc: 0.9000\n",
      "Epoch 14/200\n",
      "48000/48000 [==============================] - 1s 26us/step - loss: 0.3990 - acc: 0.8920 - val_loss: 0.3699 - val_acc: 0.9013\n",
      "Epoch 15/200\n",
      "48000/48000 [==============================] - 2s 31us/step - loss: 0.3933 - acc: 0.8934 - val_loss: 0.3652 - val_acc: 0.9017\n",
      "Epoch 16/200\n",
      "48000/48000 [==============================] - 1s 28us/step - loss: 0.3882 - acc: 0.8943 - val_loss: 0.3609 - val_acc: 0.9032\n",
      "Epoch 17/200\n",
      "48000/48000 [==============================] - 1s 23us/step - loss: 0.3835 - acc: 0.8956 - val_loss: 0.3570 - val_acc: 0.9041\n",
      "Epoch 18/200\n",
      "48000/48000 [==============================] - 1s 20us/step - loss: 0.3793 - acc: 0.8961 - val_loss: 0.3534 - val_acc: 0.9054\n",
      "Epoch 19/200\n",
      "48000/48000 [==============================] - 1s 22us/step - loss: 0.3755 - acc: 0.8971 - val_loss: 0.3503 - val_acc: 0.9061\n",
      "Epoch 20/200\n",
      "48000/48000 [==============================] - 1s 20us/step - loss: 0.3718 - acc: 0.8981 - val_loss: 0.3477 - val_acc: 0.9057\n",
      "Epoch 21/200\n",
      "48000/48000 [==============================] - 1s 22us/step - loss: 0.3685 - acc: 0.8985 - val_loss: 0.3447 - val_acc: 0.9077\n",
      "Epoch 22/200\n",
      "48000/48000 [==============================] - 1s 20us/step - loss: 0.3654 - acc: 0.8990 - val_loss: 0.3422 - val_acc: 0.9078\n",
      "Epoch 23/200\n",
      "48000/48000 [==============================] - 1s 20us/step - loss: 0.3626 - acc: 0.8999 - val_loss: 0.3398 - val_acc: 0.9086\n",
      "Epoch 24/200\n",
      "48000/48000 [==============================] - 1s 20us/step - loss: 0.3599 - acc: 0.9004 - val_loss: 0.3378 - val_acc: 0.9088\n",
      "Epoch 25/200\n",
      "48000/48000 [==============================] - 1s 24us/step - loss: 0.3574 - acc: 0.9013 - val_loss: 0.3357 - val_acc: 0.9098\n",
      "Epoch 26/200\n",
      "48000/48000 [==============================] - 1s 22us/step - loss: 0.3550 - acc: 0.9017 - val_loss: 0.3337 - val_acc: 0.9097\n",
      "Epoch 27/200\n",
      "48000/48000 [==============================] - 1s 20us/step - loss: 0.3528 - acc: 0.9022 - val_loss: 0.3318 - val_acc: 0.9105\n",
      "Epoch 28/200\n",
      "48000/48000 [==============================] - 1s 20us/step - loss: 0.3507 - acc: 0.9029 - val_loss: 0.3301 - val_acc: 0.9107\n",
      "Epoch 29/200\n",
      "48000/48000 [==============================] - 1s 21us/step - loss: 0.3486 - acc: 0.9031 - val_loss: 0.3286 - val_acc: 0.9110\n",
      "Epoch 30/200\n",
      "48000/48000 [==============================] - 1s 23us/step - loss: 0.3468 - acc: 0.9034 - val_loss: 0.3269 - val_acc: 0.9117\n",
      "Epoch 31/200\n",
      "48000/48000 [==============================] - 1s 20us/step - loss: 0.3449 - acc: 0.9042 - val_loss: 0.3256 - val_acc: 0.9117\n",
      "Epoch 32/200\n",
      "48000/48000 [==============================] - 1s 22us/step - loss: 0.3432 - acc: 0.9045 - val_loss: 0.3243 - val_acc: 0.9119\n",
      "Epoch 33/200\n",
      "48000/48000 [==============================] - 1s 20us/step - loss: 0.3416 - acc: 0.9050 - val_loss: 0.3228 - val_acc: 0.9120\n",
      "Epoch 34/200\n",
      "48000/48000 [==============================] - 1s 20us/step - loss: 0.3400 - acc: 0.9053 - val_loss: 0.3215 - val_acc: 0.9130\n",
      "Epoch 35/200\n",
      "48000/48000 [==============================] - 1s 20us/step - loss: 0.3385 - acc: 0.9055 - val_loss: 0.3204 - val_acc: 0.9127\n",
      "Epoch 36/200\n",
      "48000/48000 [==============================] - 1s 23us/step - loss: 0.3370 - acc: 0.9060 - val_loss: 0.3192 - val_acc: 0.9134\n",
      "Epoch 37/200\n",
      "48000/48000 [==============================] - 1s 22us/step - loss: 0.3356 - acc: 0.9066 - val_loss: 0.3181 - val_acc: 0.9128\n",
      "Epoch 38/200\n",
      "48000/48000 [==============================] - 1s 20us/step - loss: 0.3343 - acc: 0.9068 - val_loss: 0.3169 - val_acc: 0.9136\n",
      "Epoch 39/200\n",
      "48000/48000 [==============================] - 1s 20us/step - loss: 0.3330 - acc: 0.9071 - val_loss: 0.3160 - val_acc: 0.9134\n",
      "Epoch 40/200\n",
      "48000/48000 [==============================] - 1s 20us/step - loss: 0.3318 - acc: 0.9076 - val_loss: 0.3151 - val_acc: 0.9137\n",
      "Epoch 41/200\n",
      "48000/48000 [==============================] - 1s 28us/step - loss: 0.3306 - acc: 0.9079 - val_loss: 0.3140 - val_acc: 0.9141\n",
      "Epoch 42/200\n",
      "48000/48000 [==============================] - 1s 21us/step - loss: 0.3294 - acc: 0.9083 - val_loss: 0.3131 - val_acc: 0.9143\n",
      "Epoch 43/200\n",
      "48000/48000 [==============================] - 1s 21us/step - loss: 0.3284 - acc: 0.9084 - val_loss: 0.3123 - val_acc: 0.9145\n",
      "Epoch 44/200\n",
      "48000/48000 [==============================] - 1s 20us/step - loss: 0.3273 - acc: 0.9090 - val_loss: 0.3114 - val_acc: 0.9147\n",
      "Epoch 45/200\n",
      "48000/48000 [==============================] - 1s 19us/step - loss: 0.3263 - acc: 0.9093 - val_loss: 0.3106 - val_acc: 0.9146\n",
      "Epoch 46/200\n",
      "48000/48000 [==============================] - 1s 20us/step - loss: 0.3252 - acc: 0.9095 - val_loss: 0.3097 - val_acc: 0.9147\n",
      "Epoch 47/200\n",
      "48000/48000 [==============================] - 1s 22us/step - loss: 0.3243 - acc: 0.9097 - val_loss: 0.3091 - val_acc: 0.9145\n",
      "Epoch 48/200\n",
      "48000/48000 [==============================] - 1s 21us/step - loss: 0.3233 - acc: 0.9100 - val_loss: 0.3083 - val_acc: 0.9143\n",
      "Epoch 49/200\n",
      "48000/48000 [==============================] - 1s 21us/step - loss: 0.3224 - acc: 0.9102 - val_loss: 0.3077 - val_acc: 0.9140\n",
      "Epoch 50/200\n",
      "48000/48000 [==============================] - 1s 21us/step - loss: 0.3215 - acc: 0.9104 - val_loss: 0.3069 - val_acc: 0.9142\n",
      "Epoch 51/200\n",
      "48000/48000 [==============================] - 1s 21us/step - loss: 0.3206 - acc: 0.9108 - val_loss: 0.3062 - val_acc: 0.9153\n",
      "Epoch 52/200\n",
      "48000/48000 [==============================] - 1s 24us/step - loss: 0.3198 - acc: 0.9108 - val_loss: 0.3056 - val_acc: 0.9143\n",
      "Epoch 53/200\n",
      "48000/48000 [==============================] - 1s 21us/step - loss: 0.3190 - acc: 0.9110 - val_loss: 0.3050 - val_acc: 0.9144\n",
      "Epoch 54/200\n",
      "48000/48000 [==============================] - 1s 19us/step - loss: 0.3182 - acc: 0.9112 - val_loss: 0.3044 - val_acc: 0.9147\n",
      "Epoch 55/200\n",
      "48000/48000 [==============================] - 1s 19us/step - loss: 0.3174 - acc: 0.9114 - val_loss: 0.3038 - val_acc: 0.9149\n",
      "Epoch 56/200\n",
      "48000/48000 [==============================] - 1s 21us/step - loss: 0.3167 - acc: 0.9121 - val_loss: 0.3032 - val_acc: 0.9153\n",
      "Epoch 57/200\n",
      "48000/48000 [==============================] - 1s 27us/step - loss: 0.3160 - acc: 0.9121 - val_loss: 0.3026 - val_acc: 0.9153\n",
      "Epoch 58/200\n",
      "48000/48000 [==============================] - 1s 22us/step - loss: 0.3153 - acc: 0.9121 - val_loss: 0.3020 - val_acc: 0.9153\n",
      "Epoch 59/200\n"
     ]
    },
    {
     "name": "stdout",
     "output_type": "stream",
     "text": [
      "48000/48000 [==============================] - 1s 19us/step - loss: 0.3145 - acc: 0.9122 - val_loss: 0.3016 - val_acc: 0.9147\n",
      "Epoch 60/200\n",
      "48000/48000 [==============================] - 1s 18us/step - loss: 0.3139 - acc: 0.9126 - val_loss: 0.3012 - val_acc: 0.9156\n",
      "Epoch 61/200\n",
      "48000/48000 [==============================] - 1s 18us/step - loss: 0.3132 - acc: 0.9125 - val_loss: 0.3006 - val_acc: 0.9157\n",
      "Epoch 62/200\n",
      "48000/48000 [==============================] - 1s 19us/step - loss: 0.3125 - acc: 0.9128 - val_loss: 0.3000 - val_acc: 0.9160\n",
      "Epoch 63/200\n",
      "48000/48000 [==============================] - 1s 21us/step - loss: 0.3120 - acc: 0.9130 - val_loss: 0.2995 - val_acc: 0.9162\n",
      "Epoch 64/200\n",
      "48000/48000 [==============================] - 1s 20us/step - loss: 0.3113 - acc: 0.9132 - val_loss: 0.2991 - val_acc: 0.9162\n",
      "Epoch 65/200\n",
      "48000/48000 [==============================] - 1s 18us/step - loss: 0.3107 - acc: 0.9136 - val_loss: 0.2986 - val_acc: 0.9164\n",
      "Epoch 66/200\n",
      "48000/48000 [==============================] - 1s 18us/step - loss: 0.3101 - acc: 0.9139 - val_loss: 0.2983 - val_acc: 0.9162\n",
      "Epoch 67/200\n",
      "48000/48000 [==============================] - 1s 19us/step - loss: 0.3095 - acc: 0.9138 - val_loss: 0.2978 - val_acc: 0.9165\n",
      "Epoch 68/200\n",
      "48000/48000 [==============================] - 1s 19us/step - loss: 0.3090 - acc: 0.9140 - val_loss: 0.2973 - val_acc: 0.9166\n",
      "Epoch 69/200\n",
      "48000/48000 [==============================] - 1s 21us/step - loss: 0.3084 - acc: 0.9140 - val_loss: 0.2970 - val_acc: 0.9166\n",
      "Epoch 70/200\n",
      "48000/48000 [==============================] - 1s 19us/step - loss: 0.3079 - acc: 0.9145 - val_loss: 0.2966 - val_acc: 0.9172\n",
      "Epoch 71/200\n",
      "48000/48000 [==============================] - 1s 18us/step - loss: 0.3074 - acc: 0.9145 - val_loss: 0.2960 - val_acc: 0.9171\n",
      "Epoch 72/200\n",
      "48000/48000 [==============================] - 1s 18us/step - loss: 0.3068 - acc: 0.9148 - val_loss: 0.2957 - val_acc: 0.9171\n",
      "Epoch 73/200\n",
      "48000/48000 [==============================] - 1s 18us/step - loss: 0.3063 - acc: 0.9149 - val_loss: 0.2954 - val_acc: 0.9168\n",
      "Epoch 74/200\n",
      "48000/48000 [==============================] - 1s 18us/step - loss: 0.3058 - acc: 0.9151 - val_loss: 0.2950 - val_acc: 0.9169\n",
      "Epoch 75/200\n",
      "48000/48000 [==============================] - 1s 21us/step - loss: 0.3054 - acc: 0.9151 - val_loss: 0.2946 - val_acc: 0.9171\n",
      "Epoch 76/200\n",
      "48000/48000 [==============================] - 1s 19us/step - loss: 0.3049 - acc: 0.9153 - val_loss: 0.2943 - val_acc: 0.9173\n",
      "Epoch 77/200\n",
      "48000/48000 [==============================] - 1s 18us/step - loss: 0.3044 - acc: 0.9152 - val_loss: 0.2940 - val_acc: 0.9173\n",
      "Epoch 78/200\n",
      "48000/48000 [==============================] - 1s 18us/step - loss: 0.3040 - acc: 0.9156 - val_loss: 0.2936 - val_acc: 0.9172\n",
      "Epoch 79/200\n",
      "48000/48000 [==============================] - 1s 19us/step - loss: 0.3035 - acc: 0.9157 - val_loss: 0.2933 - val_acc: 0.9174\n",
      "Epoch 80/200\n",
      "48000/48000 [==============================] - 1s 18us/step - loss: 0.3030 - acc: 0.9159 - val_loss: 0.2930 - val_acc: 0.9175\n",
      "Epoch 81/200\n",
      "48000/48000 [==============================] - 1s 22us/step - loss: 0.3026 - acc: 0.9158 - val_loss: 0.2926 - val_acc: 0.9179\n",
      "Epoch 82/200\n",
      "48000/48000 [==============================] - 1s 19us/step - loss: 0.3022 - acc: 0.9161 - val_loss: 0.2924 - val_acc: 0.9178\n",
      "Epoch 83/200\n",
      "48000/48000 [==============================] - 1s 18us/step - loss: 0.3018 - acc: 0.9163 - val_loss: 0.2920 - val_acc: 0.9179\n",
      "Epoch 84/200\n",
      "48000/48000 [==============================] - 1s 18us/step - loss: 0.3013 - acc: 0.9164 - val_loss: 0.2917 - val_acc: 0.9182\n",
      "Epoch 85/200\n",
      "48000/48000 [==============================] - 1s 18us/step - loss: 0.3009 - acc: 0.9164 - val_loss: 0.2915 - val_acc: 0.9180\n",
      "Epoch 86/200\n",
      "48000/48000 [==============================] - 1s 18us/step - loss: 0.3005 - acc: 0.9164 - val_loss: 0.2911 - val_acc: 0.9182\n",
      "Epoch 87/200\n",
      "48000/48000 [==============================] - 1s 23us/step - loss: 0.3002 - acc: 0.9166 - val_loss: 0.2908 - val_acc: 0.9187\n",
      "Epoch 88/200\n",
      "48000/48000 [==============================] - 1s 19us/step - loss: 0.2997 - acc: 0.9167 - val_loss: 0.2906 - val_acc: 0.9183\n",
      "Epoch 89/200\n",
      "48000/48000 [==============================] - 1s 20us/step - loss: 0.2993 - acc: 0.9168 - val_loss: 0.2903 - val_acc: 0.9187\n",
      "Epoch 90/200\n",
      "48000/48000 [==============================] - 1s 20us/step - loss: 0.2990 - acc: 0.9168 - val_loss: 0.2900 - val_acc: 0.9184\n",
      "Epoch 91/200\n",
      "48000/48000 [==============================] - 1s 20us/step - loss: 0.2986 - acc: 0.9169 - val_loss: 0.2897 - val_acc: 0.9185\n",
      "Epoch 92/200\n",
      "48000/48000 [==============================] - 1s 18us/step - loss: 0.2982 - acc: 0.9169 - val_loss: 0.2895 - val_acc: 0.9192\n",
      "Epoch 93/200\n",
      "48000/48000 [==============================] - 1s 22us/step - loss: 0.2979 - acc: 0.9170 - val_loss: 0.2893 - val_acc: 0.9188\n",
      "Epoch 94/200\n",
      "48000/48000 [==============================] - 1s 18us/step - loss: 0.2976 - acc: 0.9174 - val_loss: 0.2891 - val_acc: 0.9185\n",
      "Epoch 95/200\n",
      "48000/48000 [==============================] - 1s 18us/step - loss: 0.2972 - acc: 0.9172 - val_loss: 0.2888 - val_acc: 0.9191\n",
      "Epoch 96/200\n",
      "48000/48000 [==============================] - 1s 18us/step - loss: 0.2969 - acc: 0.9174 - val_loss: 0.2885 - val_acc: 0.9191\n",
      "Epoch 97/200\n",
      "48000/48000 [==============================] - 1s 18us/step - loss: 0.2965 - acc: 0.9173 - val_loss: 0.2883 - val_acc: 0.9193\n",
      "Epoch 98/200\n",
      "48000/48000 [==============================] - 1s 18us/step - loss: 0.2962 - acc: 0.9175 - val_loss: 0.2880 - val_acc: 0.9194\n",
      "Epoch 99/200\n",
      "48000/48000 [==============================] - 1s 22us/step - loss: 0.2959 - acc: 0.9176 - val_loss: 0.2878 - val_acc: 0.9190\n",
      "Epoch 100/200\n",
      "48000/48000 [==============================] - 1s 18us/step - loss: 0.2955 - acc: 0.9178 - val_loss: 0.2875 - val_acc: 0.9191\n",
      "Epoch 101/200\n",
      "48000/48000 [==============================] - 1s 18us/step - loss: 0.2952 - acc: 0.9177 - val_loss: 0.2874 - val_acc: 0.9194\n",
      "Epoch 102/200\n",
      "48000/48000 [==============================] - 1s 18us/step - loss: 0.2949 - acc: 0.9178 - val_loss: 0.2871 - val_acc: 0.9190\n",
      "Epoch 103/200\n",
      "48000/48000 [==============================] - 1s 18us/step - loss: 0.2946 - acc: 0.9178 - val_loss: 0.2870 - val_acc: 0.9195\n",
      "Epoch 104/200\n",
      "48000/48000 [==============================] - 1s 18us/step - loss: 0.2943 - acc: 0.9180 - val_loss: 0.2867 - val_acc: 0.9197\n",
      "Epoch 105/200\n",
      "48000/48000 [==============================] - 1s 22us/step - loss: 0.2940 - acc: 0.9179 - val_loss: 0.2865 - val_acc: 0.9193\n",
      "Epoch 106/200\n",
      "48000/48000 [==============================] - 1s 17us/step - loss: 0.2937 - acc: 0.9181 - val_loss: 0.2863 - val_acc: 0.9195\n",
      "Epoch 107/200\n",
      "48000/48000 [==============================] - 1s 18us/step - loss: 0.2934 - acc: 0.9181 - val_loss: 0.2861 - val_acc: 0.9198\n",
      "Epoch 108/200\n",
      "48000/48000 [==============================] - 1s 18us/step - loss: 0.2931 - acc: 0.9180 - val_loss: 0.2859 - val_acc: 0.9195\n",
      "Epoch 109/200\n",
      "48000/48000 [==============================] - 1s 18us/step - loss: 0.2928 - acc: 0.9184 - val_loss: 0.2858 - val_acc: 0.9193\n",
      "Epoch 110/200\n",
      "48000/48000 [==============================] - 1s 18us/step - loss: 0.2926 - acc: 0.9183 - val_loss: 0.2856 - val_acc: 0.9194\n",
      "Epoch 111/200\n",
      "48000/48000 [==============================] - 1s 22us/step - loss: 0.2923 - acc: 0.9186 - val_loss: 0.2854 - val_acc: 0.9200\n",
      "Epoch 112/200\n",
      "48000/48000 [==============================] - 1s 18us/step - loss: 0.2920 - acc: 0.9184 - val_loss: 0.2851 - val_acc: 0.9197\n",
      "Epoch 113/200\n",
      "48000/48000 [==============================] - 1s 18us/step - loss: 0.2917 - acc: 0.9188 - val_loss: 0.2849 - val_acc: 0.9199\n",
      "Epoch 114/200\n",
      "48000/48000 [==============================] - 1s 18us/step - loss: 0.2915 - acc: 0.9187 - val_loss: 0.2848 - val_acc: 0.9198\n",
      "Epoch 115/200\n",
      "48000/48000 [==============================] - 1s 18us/step - loss: 0.2912 - acc: 0.9184 - val_loss: 0.2846 - val_acc: 0.9195\n",
      "Epoch 116/200\n",
      "48000/48000 [==============================] - 1s 18us/step - loss: 0.2909 - acc: 0.9189 - val_loss: 0.2844 - val_acc: 0.9203\n",
      "Epoch 117/200\n",
      "48000/48000 [==============================] - 1s 21us/step - loss: 0.2907 - acc: 0.9189 - val_loss: 0.2843 - val_acc: 0.9203\n"
     ]
    },
    {
     "name": "stdout",
     "output_type": "stream",
     "text": [
      "Epoch 118/200\n",
      "48000/48000 [==============================] - 1s 17us/step - loss: 0.2905 - acc: 0.9189 - val_loss: 0.2841 - val_acc: 0.9202\n",
      "Epoch 119/200\n",
      "48000/48000 [==============================] - 1s 17us/step - loss: 0.2902 - acc: 0.9188 - val_loss: 0.2839 - val_acc: 0.9200\n",
      "Epoch 120/200\n",
      "48000/48000 [==============================] - 1s 17us/step - loss: 0.2899 - acc: 0.9191 - val_loss: 0.2838 - val_acc: 0.9199\n",
      "Epoch 121/200\n",
      "48000/48000 [==============================] - 1s 17us/step - loss: 0.2897 - acc: 0.9191 - val_loss: 0.2836 - val_acc: 0.9198\n",
      "Epoch 122/200\n",
      "48000/48000 [==============================] - 1s 17us/step - loss: 0.2894 - acc: 0.9189 - val_loss: 0.2834 - val_acc: 0.9199\n",
      "Epoch 123/200\n",
      "48000/48000 [==============================] - 1s 18us/step - loss: 0.2892 - acc: 0.9192 - val_loss: 0.2832 - val_acc: 0.9201\n",
      "Epoch 124/200\n",
      "48000/48000 [==============================] - 1s 21us/step - loss: 0.2890 - acc: 0.9192 - val_loss: 0.2831 - val_acc: 0.9200\n",
      "Epoch 125/200\n",
      "48000/48000 [==============================] - 1s 17us/step - loss: 0.2887 - acc: 0.9193 - val_loss: 0.2829 - val_acc: 0.9202\n",
      "Epoch 126/200\n",
      "48000/48000 [==============================] - 1s 17us/step - loss: 0.2885 - acc: 0.9193 - val_loss: 0.2828 - val_acc: 0.9203\n",
      "Epoch 127/200\n",
      "48000/48000 [==============================] - 1s 17us/step - loss: 0.2883 - acc: 0.9195 - val_loss: 0.2826 - val_acc: 0.9202\n",
      "Epoch 128/200\n",
      "48000/48000 [==============================] - 1s 18us/step - loss: 0.2880 - acc: 0.9196 - val_loss: 0.2825 - val_acc: 0.9204\n",
      "Epoch 129/200\n",
      "48000/48000 [==============================] - 1s 17us/step - loss: 0.2878 - acc: 0.9199 - val_loss: 0.2823 - val_acc: 0.9200\n",
      "Epoch 130/200\n",
      "48000/48000 [==============================] - 1s 21us/step - loss: 0.2876 - acc: 0.9197 - val_loss: 0.2822 - val_acc: 0.9207\n",
      "Epoch 131/200\n",
      "48000/48000 [==============================] - 1s 17us/step - loss: 0.2874 - acc: 0.9197 - val_loss: 0.2820 - val_acc: 0.9200\n",
      "Epoch 132/200\n",
      "48000/48000 [==============================] - 1s 18us/step - loss: 0.2871 - acc: 0.9201 - val_loss: 0.2819 - val_acc: 0.9204\n",
      "Epoch 133/200\n",
      "48000/48000 [==============================] - 1s 18us/step - loss: 0.2870 - acc: 0.9199 - val_loss: 0.2818 - val_acc: 0.9204\n",
      "Epoch 134/200\n",
      "48000/48000 [==============================] - 1s 17us/step - loss: 0.2867 - acc: 0.9202 - val_loss: 0.2816 - val_acc: 0.9206\n",
      "Epoch 135/200\n",
      "48000/48000 [==============================] - 1s 17us/step - loss: 0.2865 - acc: 0.9202 - val_loss: 0.2815 - val_acc: 0.9205\n",
      "Epoch 136/200\n",
      "48000/48000 [==============================] - 1s 23us/step - loss: 0.2863 - acc: 0.9201 - val_loss: 0.2813 - val_acc: 0.9205\n",
      "Epoch 137/200\n",
      "48000/48000 [==============================] - 1s 19us/step - loss: 0.2861 - acc: 0.9200 - val_loss: 0.2812 - val_acc: 0.9207\n",
      "Epoch 138/200\n",
      "48000/48000 [==============================] - 1s 18us/step - loss: 0.2859 - acc: 0.9206 - val_loss: 0.2811 - val_acc: 0.9207\n",
      "Epoch 139/200\n",
      "48000/48000 [==============================] - 1s 18us/step - loss: 0.2857 - acc: 0.9205 - val_loss: 0.2810 - val_acc: 0.9211\n",
      "Epoch 140/200\n",
      "48000/48000 [==============================] - 1s 18us/step - loss: 0.2855 - acc: 0.9203 - val_loss: 0.2808 - val_acc: 0.9210\n",
      "Epoch 141/200\n",
      "48000/48000 [==============================] - 1s 23us/step - loss: 0.2853 - acc: 0.9202 - val_loss: 0.2807 - val_acc: 0.9212\n",
      "Epoch 142/200\n",
      "48000/48000 [==============================] - 2s 34us/step - loss: 0.2851 - acc: 0.9204 - val_loss: 0.2805 - val_acc: 0.9207\n",
      "Epoch 143/200\n",
      "48000/48000 [==============================] - 1s 28us/step - loss: 0.2849 - acc: 0.9206 - val_loss: 0.2805 - val_acc: 0.9212\n",
      "Epoch 144/200\n",
      "48000/48000 [==============================] - 1s 25us/step - loss: 0.2847 - acc: 0.9208 - val_loss: 0.2804 - val_acc: 0.9209\n",
      "Epoch 145/200\n",
      "48000/48000 [==============================] - 2s 32us/step - loss: 0.2845 - acc: 0.9208 - val_loss: 0.2802 - val_acc: 0.9209\n",
      "Epoch 146/200\n",
      "48000/48000 [==============================] - 2s 36us/step - loss: 0.2843 - acc: 0.9208 - val_loss: 0.2801 - val_acc: 0.9211\n",
      "Epoch 147/200\n",
      "48000/48000 [==============================] - 1s 18us/step - loss: 0.2841 - acc: 0.9205 - val_loss: 0.2800 - val_acc: 0.9212\n",
      "Epoch 148/200\n",
      "48000/48000 [==============================] - 1s 19us/step - loss: 0.2840 - acc: 0.9209 - val_loss: 0.2798 - val_acc: 0.9212\n",
      "Epoch 149/200\n",
      "48000/48000 [==============================] - 1s 18us/step - loss: 0.2838 - acc: 0.9208 - val_loss: 0.2797 - val_acc: 0.9212\n",
      "Epoch 150/200\n",
      "48000/48000 [==============================] - 1s 18us/step - loss: 0.2836 - acc: 0.9209 - val_loss: 0.2796 - val_acc: 0.9211\n",
      "Epoch 151/200\n",
      "48000/48000 [==============================] - 1s 18us/step - loss: 0.2834 - acc: 0.9209 - val_loss: 0.2795 - val_acc: 0.9212\n",
      "Epoch 152/200\n",
      "48000/48000 [==============================] - 1s 22us/step - loss: 0.2832 - acc: 0.9207 - val_loss: 0.2794 - val_acc: 0.9213\n",
      "Epoch 153/200\n",
      "48000/48000 [==============================] - 1s 18us/step - loss: 0.2830 - acc: 0.9210 - val_loss: 0.2793 - val_acc: 0.9207\n",
      "Epoch 154/200\n",
      "48000/48000 [==============================] - 1s 19us/step - loss: 0.2828 - acc: 0.9209 - val_loss: 0.2793 - val_acc: 0.9209\n",
      "Epoch 155/200\n",
      "48000/48000 [==============================] - 1s 18us/step - loss: 0.2827 - acc: 0.9212 - val_loss: 0.2790 - val_acc: 0.9218\n",
      "Epoch 156/200\n",
      "48000/48000 [==============================] - 1s 18us/step - loss: 0.2825 - acc: 0.9211 - val_loss: 0.2789 - val_acc: 0.9212\n",
      "Epoch 157/200\n",
      "48000/48000 [==============================] - 1s 18us/step - loss: 0.2824 - acc: 0.9213 - val_loss: 0.2788 - val_acc: 0.9213\n",
      "Epoch 158/200\n",
      "48000/48000 [==============================] - 1s 23us/step - loss: 0.2822 - acc: 0.9215 - val_loss: 0.2788 - val_acc: 0.9215\n",
      "Epoch 159/200\n",
      "48000/48000 [==============================] - 1s 17us/step - loss: 0.2820 - acc: 0.9214 - val_loss: 0.2787 - val_acc: 0.9214\n",
      "Epoch 160/200\n",
      "48000/48000 [==============================] - 1s 18us/step - loss: 0.2819 - acc: 0.9213 - val_loss: 0.2785 - val_acc: 0.9216\n",
      "Epoch 161/200\n",
      "48000/48000 [==============================] - 1s 18us/step - loss: 0.2817 - acc: 0.9214 - val_loss: 0.2784 - val_acc: 0.9214\n",
      "Epoch 162/200\n",
      "48000/48000 [==============================] - 1s 18us/step - loss: 0.2815 - acc: 0.9215 - val_loss: 0.2784 - val_acc: 0.9217\n",
      "Epoch 163/200\n",
      "48000/48000 [==============================] - 1s 18us/step - loss: 0.2814 - acc: 0.9213 - val_loss: 0.2782 - val_acc: 0.9217\n",
      "Epoch 164/200\n",
      "48000/48000 [==============================] - 1s 22us/step - loss: 0.2812 - acc: 0.9212 - val_loss: 0.2781 - val_acc: 0.9222\n",
      "Epoch 165/200\n",
      "48000/48000 [==============================] - 1s 17us/step - loss: 0.2811 - acc: 0.9215 - val_loss: 0.2780 - val_acc: 0.9220\n",
      "Epoch 166/200\n",
      "48000/48000 [==============================] - 1s 18us/step - loss: 0.2809 - acc: 0.9216 - val_loss: 0.2780 - val_acc: 0.9217\n",
      "Epoch 167/200\n",
      "48000/48000 [==============================] - 1s 18us/step - loss: 0.2808 - acc: 0.9215 - val_loss: 0.2779 - val_acc: 0.9218\n",
      "Epoch 168/200\n",
      "48000/48000 [==============================] - 1s 18us/step - loss: 0.2806 - acc: 0.9217 - val_loss: 0.2777 - val_acc: 0.9223\n",
      "Epoch 169/200\n",
      "48000/48000 [==============================] - 1s 18us/step - loss: 0.2804 - acc: 0.9220 - val_loss: 0.2777 - val_acc: 0.9219\n",
      "Epoch 170/200\n",
      "48000/48000 [==============================] - 1s 19us/step - loss: 0.2803 - acc: 0.9219 - val_loss: 0.2776 - val_acc: 0.9222\n",
      "Epoch 171/200\n",
      "48000/48000 [==============================] - 1s 20us/step - loss: 0.2801 - acc: 0.9218 - val_loss: 0.2775 - val_acc: 0.9222\n",
      "Epoch 172/200\n",
      "48000/48000 [==============================] - 1s 18us/step - loss: 0.2800 - acc: 0.9221 - val_loss: 0.2773 - val_acc: 0.9225\n",
      "Epoch 173/200\n",
      "48000/48000 [==============================] - 1s 18us/step - loss: 0.2798 - acc: 0.9223 - val_loss: 0.2773 - val_acc: 0.9222\n",
      "Epoch 174/200\n",
      "48000/48000 [==============================] - 1s 18us/step - loss: 0.2797 - acc: 0.9223 - val_loss: 0.2772 - val_acc: 0.9224\n",
      "Epoch 175/200\n",
      "48000/48000 [==============================] - 1s 18us/step - loss: 0.2795 - acc: 0.9221 - val_loss: 0.2771 - val_acc: 0.9222\n",
      "Epoch 176/200\n"
     ]
    },
    {
     "name": "stdout",
     "output_type": "stream",
     "text": [
      "48000/48000 [==============================] - 1s 17us/step - loss: 0.2794 - acc: 0.9220 - val_loss: 0.2770 - val_acc: 0.9223\n",
      "Epoch 177/200\n",
      "48000/48000 [==============================] - 1s 22us/step - loss: 0.2792 - acc: 0.9221 - val_loss: 0.2770 - val_acc: 0.9226\n",
      "Epoch 178/200\n",
      "48000/48000 [==============================] - 1s 17us/step - loss: 0.2791 - acc: 0.9224 - val_loss: 0.2768 - val_acc: 0.9223\n",
      "Epoch 179/200\n",
      "48000/48000 [==============================] - 1s 17us/step - loss: 0.2789 - acc: 0.9221 - val_loss: 0.2768 - val_acc: 0.9223\n",
      "Epoch 180/200\n",
      "48000/48000 [==============================] - 1s 17us/step - loss: 0.2788 - acc: 0.9222 - val_loss: 0.2767 - val_acc: 0.9222\n",
      "Epoch 181/200\n",
      "48000/48000 [==============================] - 1s 18us/step - loss: 0.2786 - acc: 0.9224 - val_loss: 0.2767 - val_acc: 0.9225\n",
      "Epoch 182/200\n",
      "48000/48000 [==============================] - 1s 17us/step - loss: 0.2786 - acc: 0.9226 - val_loss: 0.2765 - val_acc: 0.9229\n",
      "Epoch 183/200\n",
      "48000/48000 [==============================] - 1s 21us/step - loss: 0.2784 - acc: 0.9223 - val_loss: 0.2764 - val_acc: 0.9224\n",
      "Epoch 184/200\n",
      "48000/48000 [==============================] - 1s 18us/step - loss: 0.2782 - acc: 0.9225 - val_loss: 0.2764 - val_acc: 0.9227\n",
      "Epoch 185/200\n",
      "48000/48000 [==============================] - 1s 18us/step - loss: 0.2781 - acc: 0.9225 - val_loss: 0.2763 - val_acc: 0.9229\n",
      "Epoch 186/200\n",
      "48000/48000 [==============================] - 1s 18us/step - loss: 0.2780 - acc: 0.9224 - val_loss: 0.2762 - val_acc: 0.9227\n",
      "Epoch 187/200\n",
      "48000/48000 [==============================] - 1s 18us/step - loss: 0.2779 - acc: 0.9227 - val_loss: 0.2762 - val_acc: 0.9228\n",
      "Epoch 188/200\n",
      "48000/48000 [==============================] - 1s 21us/step - loss: 0.2777 - acc: 0.9225 - val_loss: 0.2761 - val_acc: 0.9228\n",
      "Epoch 189/200\n",
      "48000/48000 [==============================] - 1s 22us/step - loss: 0.2776 - acc: 0.9226 - val_loss: 0.2760 - val_acc: 0.9230\n",
      "Epoch 190/200\n",
      "48000/48000 [==============================] - 1s 18us/step - loss: 0.2774 - acc: 0.9226 - val_loss: 0.2759 - val_acc: 0.9231\n",
      "Epoch 191/200\n",
      "48000/48000 [==============================] - 1s 18us/step - loss: 0.2773 - acc: 0.9225 - val_loss: 0.2758 - val_acc: 0.9230\n",
      "Epoch 192/200\n",
      "48000/48000 [==============================] - 1s 18us/step - loss: 0.2772 - acc: 0.9228 - val_loss: 0.2758 - val_acc: 0.9226\n",
      "Epoch 193/200\n",
      "48000/48000 [==============================] - 1s 19us/step - loss: 0.2770 - acc: 0.9228 - val_loss: 0.2757 - val_acc: 0.9229\n",
      "Epoch 194/200\n",
      "48000/48000 [==============================] - 1s 17us/step - loss: 0.2769 - acc: 0.9228 - val_loss: 0.2756 - val_acc: 0.9228\n",
      "Epoch 195/200\n",
      "48000/48000 [==============================] - 1s 22us/step - loss: 0.2768 - acc: 0.9227 - val_loss: 0.2756 - val_acc: 0.9232\n",
      "Epoch 196/200\n",
      "48000/48000 [==============================] - 1s 17us/step - loss: 0.2767 - acc: 0.9229 - val_loss: 0.2755 - val_acc: 0.9232\n",
      "Epoch 197/200\n",
      "48000/48000 [==============================] - 1s 17us/step - loss: 0.2766 - acc: 0.9229 - val_loss: 0.2754 - val_acc: 0.9230\n",
      "Epoch 198/200\n",
      "48000/48000 [==============================] - 1s 19us/step - loss: 0.2764 - acc: 0.9227 - val_loss: 0.2753 - val_acc: 0.9233\n",
      "Epoch 199/200\n",
      "48000/48000 [==============================] - 1s 17us/step - loss: 0.2763 - acc: 0.9228 - val_loss: 0.2752 - val_acc: 0.9235\n",
      "Epoch 200/200\n",
      "48000/48000 [==============================] - 1s 18us/step - loss: 0.2762 - acc: 0.9229 - val_loss: 0.2752 - val_acc: 0.9233\n"
     ]
    }
   ],
   "source": [
    "history = model.fit(X_train, Y_train, batch_size = BATCH_SIZE, epochs = NB_EPOCH, \n",
    "                    verbose = VERBOSE, validation_split = VALIDATION_SPLIT)"
   ]
  },
  {
   "cell_type": "code",
   "execution_count": 8,
   "metadata": {},
   "outputs": [
    {
     "name": "stdout",
     "output_type": "stream",
     "text": [
      "10000/10000 [==============================] - 0s 23us/step\n",
      "Test score: 0.2773515003055334\n",
      "Test accuracy: 0.9222\n"
     ]
    }
   ],
   "source": [
    "score = model.evaluate(X_test, Y_test, verbose=VERBOSE)\n",
    "print(\"Test score:\", score[0])\n",
    "print(\"Test accuracy:\", score[1])"
   ]
  },
  {
   "cell_type": "markdown",
   "metadata": {},
   "source": [
    "# Making Your Model Pt.2"
   ]
  },
  {
   "cell_type": "code",
   "execution_count": 9,
   "metadata": {},
   "outputs": [
    {
     "name": "stdout",
     "output_type": "stream",
     "text": [
      "_________________________________________________________________\n",
      "Layer (type)                 Output Shape              Param #   \n",
      "=================================================================\n",
      "dense_2 (Dense)              (None, 128)               100480    \n",
      "_________________________________________________________________\n",
      "activation_2 (Activation)    (None, 128)               0         \n",
      "_________________________________________________________________\n",
      "dense_3 (Dense)              (None, 128)               16512     \n",
      "_________________________________________________________________\n",
      "activation_3 (Activation)    (None, 128)               0         \n",
      "_________________________________________________________________\n",
      "dense_4 (Dense)              (None, 10)                1290      \n",
      "_________________________________________________________________\n",
      "activation_4 (Activation)    (None, 10)                0         \n",
      "=================================================================\n",
      "Total params: 118,282\n",
      "Trainable params: 118,282\n",
      "Non-trainable params: 0\n",
      "_________________________________________________________________\n"
     ]
    }
   ],
   "source": [
    "model = Sequential()\n",
    "model.add(Dense(N_HIDDEN, input_shape = (RESHAPE,)))\n",
    "model.add(Activation('relu'))\n",
    "model.add(Dense(N_HIDDEN))\n",
    "model.add(Activation('relu'))\n",
    "model.add(Dense(NB_CLASSES))\n",
    "model.add(Activation('softmax'))\n",
    "model.summary()\n",
    "model.compile(loss = 'categorical_crossentropy', optimizer = OPTIMIZER, metrics = ['accuracy'])"
   ]
  },
  {
   "cell_type": "code",
   "execution_count": 10,
   "metadata": {},
   "outputs": [
    {
     "name": "stdout",
     "output_type": "stream",
     "text": [
      "Train on 48000 samples, validate on 12000 samples\n",
      "Epoch 1/20\n",
      "48000/48000 [==============================] - 1s 30us/step - loss: 1.4821 - acc: 0.6347 - val_loss: 0.7480 - val_acc: 0.8344\n",
      "Epoch 2/20\n",
      "48000/48000 [==============================] - 1s 23us/step - loss: 0.5936 - acc: 0.8536 - val_loss: 0.4512 - val_acc: 0.8863\n",
      "Epoch 3/20\n",
      "48000/48000 [==============================] - 1s 23us/step - loss: 0.4363 - acc: 0.8823 - val_loss: 0.3723 - val_acc: 0.9011\n",
      "Epoch 4/20\n",
      "48000/48000 [==============================] - 1s 23us/step - loss: 0.3789 - acc: 0.8955 - val_loss: 0.3352 - val_acc: 0.9091\n",
      "Epoch 5/20\n",
      "48000/48000 [==============================] - 1s 25us/step - loss: 0.3466 - acc: 0.9023 - val_loss: 0.3127 - val_acc: 0.9143\n",
      "Epoch 6/20\n",
      "48000/48000 [==============================] - 1s 23us/step - loss: 0.3243 - acc: 0.9086 - val_loss: 0.2969 - val_acc: 0.9170\n",
      "Epoch 7/20\n",
      "48000/48000 [==============================] - 1s 23us/step - loss: 0.3069 - acc: 0.9138 - val_loss: 0.2832 - val_acc: 0.9213\n",
      "Epoch 8/20\n",
      "48000/48000 [==============================] - 1s 23us/step - loss: 0.2928 - acc: 0.9172 - val_loss: 0.2717 - val_acc: 0.9234\n",
      "Epoch 9/20\n",
      "48000/48000 [==============================] - 1s 23us/step - loss: 0.2804 - acc: 0.9204 - val_loss: 0.2616 - val_acc: 0.9268\n",
      "Epoch 10/20\n",
      "48000/48000 [==============================] - 1s 25us/step - loss: 0.2696 - acc: 0.9236 - val_loss: 0.2533 - val_acc: 0.9280\n",
      "Epoch 11/20\n",
      "48000/48000 [==============================] - 1s 23us/step - loss: 0.2596 - acc: 0.9262 - val_loss: 0.2439 - val_acc: 0.9321\n",
      "Epoch 12/20\n",
      "48000/48000 [==============================] - 1s 23us/step - loss: 0.2506 - acc: 0.9291 - val_loss: 0.2370 - val_acc: 0.9328\n",
      "Epoch 13/20\n",
      "48000/48000 [==============================] - 1s 23us/step - loss: 0.2421 - acc: 0.9314 - val_loss: 0.2308 - val_acc: 0.9348\n",
      "Epoch 14/20\n",
      "48000/48000 [==============================] - 1s 25us/step - loss: 0.2346 - acc: 0.9334 - val_loss: 0.2237 - val_acc: 0.9369\n",
      "Epoch 15/20\n",
      "48000/48000 [==============================] - 1s 23us/step - loss: 0.2269 - acc: 0.9357 - val_loss: 0.2186 - val_acc: 0.9381\n",
      "Epoch 16/20\n",
      "48000/48000 [==============================] - 1s 23us/step - loss: 0.2201 - acc: 0.9381 - val_loss: 0.2141 - val_acc: 0.9387\n",
      "Epoch 17/20\n",
      "48000/48000 [==============================] - 1s 23us/step - loss: 0.2134 - acc: 0.9393 - val_loss: 0.2069 - val_acc: 0.9413\n",
      "Epoch 18/20\n",
      "48000/48000 [==============================] - 1s 23us/step - loss: 0.2072 - acc: 0.9410 - val_loss: 0.2019 - val_acc: 0.9437\n",
      "Epoch 19/20\n",
      "48000/48000 [==============================] - 1s 25us/step - loss: 0.2012 - acc: 0.9429 - val_loss: 0.1978 - val_acc: 0.9441\n",
      "Epoch 20/20\n",
      "48000/48000 [==============================] - 1s 23us/step - loss: 0.1956 - acc: 0.9433 - val_loss: 0.1926 - val_acc: 0.9455\n"
     ]
    }
   ],
   "source": [
    "history = model.fit(X_train, Y_train, batch_size = BATCH_SIZE, epochs = 20, \n",
    "                    verbose = VERBOSE, validation_split = VALIDATION_SPLIT)"
   ]
  },
  {
   "cell_type": "code",
   "execution_count": 11,
   "metadata": {},
   "outputs": [
    {
     "name": "stdout",
     "output_type": "stream",
     "text": [
      "10000/10000 [==============================] - 0s 33us/step\n",
      "Test score: 0.19416967294961215\n",
      "Test accuracy: 0.9434\n"
     ]
    }
   ],
   "source": [
    "score = model.evaluate(X_test, Y_test, verbose=VERBOSE)\n",
    "print(\"Test score:\", score[0])\n",
    "print(\"Test accuracy:\", score[1])"
   ]
  },
  {
   "cell_type": "markdown",
   "metadata": {},
   "source": [
    "# Making Your Model Pt.3"
   ]
  },
  {
   "cell_type": "code",
   "execution_count": 12,
   "metadata": {},
   "outputs": [
    {
     "name": "stdout",
     "output_type": "stream",
     "text": [
      "_________________________________________________________________\n",
      "Layer (type)                 Output Shape              Param #   \n",
      "=================================================================\n",
      "dense_5 (Dense)              (None, 128)               100480    \n",
      "_________________________________________________________________\n",
      "activation_5 (Activation)    (None, 128)               0         \n",
      "_________________________________________________________________\n",
      "dropout_1 (Dropout)          (None, 128)               0         \n",
      "_________________________________________________________________\n",
      "dense_6 (Dense)              (None, 128)               16512     \n",
      "_________________________________________________________________\n",
      "activation_6 (Activation)    (None, 128)               0         \n",
      "_________________________________________________________________\n",
      "dropout_2 (Dropout)          (None, 128)               0         \n",
      "_________________________________________________________________\n",
      "dense_7 (Dense)              (None, 10)                1290      \n",
      "_________________________________________________________________\n",
      "activation_7 (Activation)    (None, 10)                0         \n",
      "=================================================================\n",
      "Total params: 118,282\n",
      "Trainable params: 118,282\n",
      "Non-trainable params: 0\n",
      "_________________________________________________________________\n"
     ]
    }
   ],
   "source": [
    "model = Sequential()\n",
    "model.add(Dense(N_HIDDEN, input_shape = (RESHAPE,)))\n",
    "model.add(Activation('relu'))\n",
    "model.add(Dropout(.2))\n",
    "model.add(Dense(N_HIDDEN))\n",
    "model.add(Activation('relu'))\n",
    "model.add(Dropout(.2))\n",
    "model.add(Dense(NB_CLASSES))\n",
    "model.add(Activation('softmax'))\n",
    "model.summary()\n",
    "model.compile(loss = 'categorical_crossentropy', optimizer = OPTIMIZER, metrics = ['accuracy'])"
   ]
  },
  {
   "cell_type": "code",
   "execution_count": 13,
   "metadata": {},
   "outputs": [
    {
     "name": "stdout",
     "output_type": "stream",
     "text": [
      "Train on 48000 samples, validate on 12000 samples\n",
      "Epoch 1/20\n",
      "48000/48000 [==============================] - 2s 36us/step - loss: 1.5809 - acc: 0.5225 - val_loss: 0.7998 - val_acc: 0.8261\n",
      "Epoch 2/20\n",
      "48000/48000 [==============================] - 1s 30us/step - loss: 0.7870 - acc: 0.7682 - val_loss: 0.4884 - val_acc: 0.8777\n",
      "Epoch 3/20\n",
      "48000/48000 [==============================] - 1s 30us/step - loss: 0.5970 - acc: 0.8218 - val_loss: 0.4001 - val_acc: 0.8926\n",
      "Epoch 4/20\n",
      "48000/48000 [==============================] - 1s 29us/step - loss: 0.5148 - acc: 0.8457 - val_loss: 0.3565 - val_acc: 0.9002\n",
      "Epoch 5/20\n",
      "48000/48000 [==============================] - 1s 29us/step - loss: 0.4665 - acc: 0.8635 - val_loss: 0.3266 - val_acc: 0.9069\n",
      "Epoch 6/20\n",
      "48000/48000 [==============================] - 1s 29us/step - loss: 0.4276 - acc: 0.8731 - val_loss: 0.3058 - val_acc: 0.9114\n",
      "Epoch 7/20\n",
      "48000/48000 [==============================] - 1s 30us/step - loss: 0.4000 - acc: 0.8820 - val_loss: 0.2883 - val_acc: 0.9173\n",
      "Epoch 8/20\n",
      "48000/48000 [==============================] - 1s 29us/step - loss: 0.3775 - acc: 0.8887 - val_loss: 0.2739 - val_acc: 0.9212\n",
      "Epoch 9/20\n",
      "48000/48000 [==============================] - 1s 29us/step - loss: 0.3635 - acc: 0.8918 - val_loss: 0.2621 - val_acc: 0.9249\n",
      "Epoch 10/20\n",
      "48000/48000 [==============================] - 1s 28us/step - loss: 0.3469 - acc: 0.8984 - val_loss: 0.2507 - val_acc: 0.9273\n",
      "Epoch 11/20\n",
      "48000/48000 [==============================] - 1s 30us/step - loss: 0.3301 - acc: 0.9030 - val_loss: 0.2409 - val_acc: 0.9308\n",
      "Epoch 12/20\n",
      "48000/48000 [==============================] - 1s 29us/step - loss: 0.3183 - acc: 0.9057 - val_loss: 0.2322 - val_acc: 0.9331\n",
      "Epoch 13/20\n",
      "48000/48000 [==============================] - 1s 29us/step - loss: 0.3068 - acc: 0.9097 - val_loss: 0.2239 - val_acc: 0.9345\n",
      "Epoch 14/20\n",
      "48000/48000 [==============================] - 1s 30us/step - loss: 0.2970 - acc: 0.9121 - val_loss: 0.2166 - val_acc: 0.9374\n",
      "Epoch 15/20\n",
      "48000/48000 [==============================] - 1s 29us/step - loss: 0.2872 - acc: 0.9170 - val_loss: 0.2091 - val_acc: 0.9394\n",
      "Epoch 16/20\n",
      "48000/48000 [==============================] - 1s 29us/step - loss: 0.2776 - acc: 0.9187 - val_loss: 0.2044 - val_acc: 0.9418\n",
      "Epoch 17/20\n",
      "48000/48000 [==============================] - 1s 29us/step - loss: 0.2678 - acc: 0.9195 - val_loss: 0.1984 - val_acc: 0.9428\n",
      "Epoch 18/20\n",
      "48000/48000 [==============================] - 1s 30us/step - loss: 0.2634 - acc: 0.9231 - val_loss: 0.1927 - val_acc: 0.9445\n",
      "Epoch 19/20\n",
      "48000/48000 [==============================] - 1s 29us/step - loss: 0.2550 - acc: 0.9263 - val_loss: 0.1880 - val_acc: 0.9456\n",
      "Epoch 20/20\n",
      "48000/48000 [==============================] - 1s 29us/step - loss: 0.2509 - acc: 0.9269 - val_loss: 0.1833 - val_acc: 0.9483\n"
     ]
    }
   ],
   "source": [
    "history = model.fit(X_train, Y_train, batch_size = BATCH_SIZE, epochs = 20, \n",
    "                    verbose = VERBOSE, validation_split = VALIDATION_SPLIT)"
   ]
  },
  {
   "cell_type": "code",
   "execution_count": null,
   "metadata": {
    "collapsed": true
   },
   "outputs": [],
   "source": [
    "score = model.evaluate(X_test, Y_test, verbose=VERBOSE)\n",
    "print(\"Test score:\", score[0])\n",
    "print(\"Test accuracy:\", score[1])"
   ]
  }
 ],
 "metadata": {
  "kernelspec": {
   "display_name": "Python 3",
   "language": "python",
   "name": "python3"
  },
  "language_info": {
   "codemirror_mode": {
    "name": "ipython",
    "version": 3
   },
   "file_extension": ".py",
   "mimetype": "text/x-python",
   "name": "python",
   "nbconvert_exporter": "python",
   "pygments_lexer": "ipython3",
   "version": "3.6.3"
  },
  "varInspector": {
   "cols": {
    "lenName": 16,
    "lenType": 16,
    "lenVar": 40
   },
   "kernels_config": {
    "python": {
     "delete_cmd_postfix": "",
     "delete_cmd_prefix": "del ",
     "library": "var_list.py",
     "varRefreshCmd": "print(var_dic_list())"
    },
    "r": {
     "delete_cmd_postfix": ") ",
     "delete_cmd_prefix": "rm(",
     "library": "var_list.r",
     "varRefreshCmd": "cat(var_dic_list()) "
    }
   },
   "types_to_exclude": [
    "module",
    "function",
    "builtin_function_or_method",
    "instance",
    "_Feature"
   ],
   "window_display": false
  }
 },
 "nbformat": 4,
 "nbformat_minor": 2
}
